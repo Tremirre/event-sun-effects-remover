{
 "cells": [
  {
   "cell_type": "code",
   "execution_count": null,
   "metadata": {},
   "outputs": [],
   "source": [
    "import pathlib\n",
    "import shutil\n",
    "\n",
    "import cv2\n",
    "import matplotlib.pyplot as plt\n",
    "import numpy as np"
   ]
  },
  {
   "cell_type": "code",
   "execution_count": null,
   "metadata": {},
   "outputs": [],
   "source": [
    "ref_img_paths = [\n",
    "    \"..\\data\\\\raw\\\\uzhref\\\\sun9_00123.npy\",\n",
    "    \"..\\data\\\\raw\\\\uzhref\\\\sun2_00972.npy\",\n",
    "    \"..\\data\\\\raw\\\\uzhref\\\\sun2_01050.npy\",\n",
    "    \"..\\data\\\\raw\\\\uzhref\\\\sun5_00723.npy\",\n",
    "    \"..\\data\\\\raw\\\\uzhref\\\\sun9_00288.npy\",\n",
    "    \"..\\data\\\\raw\\\\uzhref\\\\sun5_00288.npy\",\n",
    "    \"..\\data\\\\raw\\\\uzhref\\\\sun2_01227.npy\",\n",
    "    \"..\\data\\\\excluded\\\\uzh\\\\highway1_02661.npy\",\n",
    "]"
   ]
  },
  {
   "cell_type": "code",
   "execution_count": null,
   "metadata": {},
   "outputs": [],
   "source": [
    "ref_images = [np.load(p) for p in ref_img_paths]"
   ]
  },
  {
   "cell_type": "code",
   "execution_count": null,
   "metadata": {},
   "outputs": [],
   "source": [
    "target_path = pathlib.Path(\"..\\\\data\\\\ref\")"
   ]
  },
  {
   "cell_type": "code",
   "execution_count": null,
   "metadata": {},
   "outputs": [],
   "source": [
    "for img_path, img in zip(ref_img_paths, ref_images):\n",
    "    img_rgb = img[:, :, [2, 1, 0]]\n",
    "    event = img[:, :, 3]\n",
    "    mask = img[:, :, 4]\n",
    "    # img_gs = cv2.cvtColor(img_rgb, cv2.COLOR_RGB2GRAY)\n",
    "    img_hsl = cv2.cvtColor(img_rgb, cv2.COLOR_RGB2HLS)\n",
    "    brightness = img_hsl[:, :, 1]\n",
    "\n",
    "    diff = cv2.absdiff(brightness, event)\n",
    "    diff[mask == 0] = 0\n",
    "    diff_mask = (diff > 110).astype(np.uint8) * 255\n",
    "    # close diff mask\n",
    "    kernel = np.ones((5, 5), np.uint8)\n",
    "    diff_mask = cv2.morphologyEx(diff_mask, cv2.MORPH_CLOSE, kernel)\n",
    "    # erode 2 times\n",
    "    diff_mask = cv2.erode(diff_mask, kernel, iterations=2)\n",
    "    # dilate 5 times\n",
    "    diff_mask = cv2.dilate(diff_mask, kernel, iterations=25)\n",
    "    diff_mask[mask == 0] = 0\n",
    "\n",
    "    img_rgb_cp = img_rgb.copy()\n",
    "    img_rgb_cp[diff_mask == 255] = 0\n",
    "    img_path = pathlib.Path(img_path)\n",
    "    stacked = np.dstack([img_rgb_cp, event, diff_mask])\n",
    "    np.save(target_path / img_path.name, stacked)"
   ]
  }
 ],
 "metadata": {
  "kernelspec": {
   "display_name": "masters",
   "language": "python",
   "name": "python3"
  },
  "language_info": {
   "codemirror_mode": {
    "name": "ipython",
    "version": 3
   },
   "file_extension": ".py",
   "mimetype": "text/x-python",
   "name": "python",
   "nbconvert_exporter": "python",
   "pygments_lexer": "ipython3",
   "version": "3.10.15"
  }
 },
 "nbformat": 4,
 "nbformat_minor": 2
}
