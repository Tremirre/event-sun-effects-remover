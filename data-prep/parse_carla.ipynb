{
 "cells": [
  {
   "cell_type": "code",
   "execution_count": null,
   "metadata": {},
   "outputs": [],
   "source": [
    "import dataclasses\n",
    "import pathlib\n",
    "\n",
    "import cv2\n",
    "import numpy as np\n",
    "import PIL.Image\n",
    "import torch\n",
    "import tqdm\n",
    "from rpg_e2vid.utils.inference_utils import events_to_voxel_grid\n",
    "from rpg_e2vid.utils.loading_utils import load_model\n",
    "\n",
    "import const\n",
    "import utils"
   ]
  },
  {
   "cell_type": "code",
   "execution_count": null,
   "metadata": {},
   "outputs": [],
   "source": [
    "def to_displayable(img, converted: int | None = cv2.COLOR_BGR2RGB) -> PIL.Image.Image:\n",
    "    if converted is not None:\n",
    "        img = cv2.cvtColor(img, converted)\n",
    "    return PIL.Image.fromarray(np.clip(img.astype(np.uint8), 0, 255))\n",
    "\n",
    "\n",
    "def showarray(img, converted: int | None = cv2.COLOR_BGR2RGB) -> None:\n",
    "    display(to_displayable(img, converted))"
   ]
  },
  {
   "cell_type": "code",
   "execution_count": null,
   "metadata": {},
   "outputs": [],
   "source": [
    "DATA_PATH = pathlib.Path(\"../data/raw/carla/\") / \"fullsynced\"\n",
    "events_orig = np.load(DATA_PATH / \"all_events.npy\")\n",
    "bgr_frames = np.load(DATA_PATH / \"bgr_frames.npy\")\n",
    "bgr_timestamps = np.load(DATA_PATH / \"bgr_timestamps.npy\")"
   ]
  },
  {
   "cell_type": "code",
   "execution_count": null,
   "metadata": {},
   "outputs": [],
   "source": [
    "events = np.stack(\n",
    "    [events_orig[\"t\"], events_orig[\"x\"], events_orig[\"y\"], events_orig[\"p\"]]\n",
    ").T.astype(np.int64)\n",
    "event_timestamps = (events[:, 0] / 1e6).astype(np.int64)"
   ]
  },
  {
   "cell_type": "code",
   "execution_count": null,
   "metadata": {},
   "outputs": [],
   "source": [
    "_, ts_counts = np.unique(event_timestamps, return_counts=True)"
   ]
  },
  {
   "cell_type": "code",
   "execution_count": null,
   "metadata": {},
   "outputs": [
    {
     "name": "stderr",
     "output_type": "stream",
     "text": [
      "c:\\Users\\njytwf\\AppData\\Local\\anaconda3\\envs\\masters\\lib\\site-packages\\rpg_e2vid\\utils\\loading_utils.py:8: FutureWarning: You are using `torch.load` with `weights_only=False` (the current default value), which uses the default pickle module implicitly. It is possible to construct malicious pickle data which will execute arbitrary code during unpickling (See https://github.com/pytorch/pytorch/blob/main/SECURITY.md#untrusted-models for more details). In a future release, the default value for `weights_only` will be flipped to `True`. This limits the functions that could be executed during unpickling. Arbitrary objects will no longer be allowed to be loaded via this mode unless they are explicitly allowlisted by the user via `torch.serialization.add_safe_globals`. We recommend you start setting `weights_only=True` for any use case where you don't have full control of the loaded file. Please open an issue on GitHub for any issues related to this experimental feature.\n",
      "  raw_model = torch.load(path_to_model, map_location=device)\n"
     ]
    },
    {
     "name": "stdout",
     "output_type": "stream",
     "text": [
      "Using TransposedConvLayer (fast, with checkerboard artefacts)\n"
     ]
    }
   ],
   "source": [
    "model = load_model(\"../pretrained/E2VID_lightweight.pth.tar\").to(const.DEVICE)"
   ]
  },
  {
   "cell_type": "code",
   "execution_count": null,
   "metadata": {},
   "outputs": [
    {
     "name": "stderr",
     "output_type": "stream",
     "text": [
      "100%|██████████| 832/832 [00:55<00:00, 15.00it/s]\n"
     ]
    }
   ],
   "source": [
    "eit = utils.EventWindowIterator(events, ts_counts, 30, 30, 0)\n",
    "prev = None\n",
    "rec_frames = []\n",
    "rec_ts = []\n",
    "for (\n",
    "    i,\n",
    "    window,\n",
    ") in tqdm.tqdm(enumerate(eit), total=len(eit)):\n",
    "    rec_ts.append(window[-1, 0])\n",
    "    window = window.copy()\n",
    "    vg = events_to_voxel_grid(window, 5, 640, 480)\n",
    "    vg = torch.from_numpy(vg).unsqueeze(0).float().to(const.DEVICE)\n",
    "    with torch.no_grad():\n",
    "        pred, prev = model(vg, prev)\n",
    "        pred = (pred.squeeze().cpu().numpy() * 255).astype(np.uint8)\n",
    "    rec_frames.append(pred)\n",
    "\n",
    "rec_ts = np.array(rec_ts)\n",
    "rec_frames = np.stack(rec_frames)"
   ]
  },
  {
   "cell_type": "code",
   "execution_count": null,
   "metadata": {},
   "outputs": [
    {
     "name": "stderr",
     "output_type": "stream",
     "text": [
      "100%|██████████| 832/832 [00:00<00:00, 940.82it/s]\n"
     ]
    }
   ],
   "source": [
    "out = cv2.VideoWriter(\n",
    "    \"out.mp4\", cv2.VideoWriter_fourcc(*\"mp4v\"), 30, (640, 480), isColor=False\n",
    ")\n",
    "for rec_frame in tqdm.tqdm(rec_frames):\n",
    "    out.write(rec_frame)\n",
    "out.release()"
   ]
  },
  {
   "cell_type": "code",
   "execution_count": null,
   "metadata": {},
   "outputs": [
    {
     "name": "stdout",
     "output_type": "stream",
     "text": [
      "Using skip: <function skip_sum at 0x000001F2BD89F400>\n",
      "Using UpsampleConvLayer (slow, but no checkerboard artefacts)\n",
      "Kernel size 5\n",
      "Skip type sum\n",
      "norm none\n"
     ]
    },
    {
     "name": "stderr",
     "output_type": "stream",
     "text": [
      "c:\\Extra\\Masters\\event-sun-effects-remover\\data-prep\\utils.py:368: FutureWarning: You are using `torch.load` with `weights_only=False` (the current default value), which uses the default pickle module implicitly. It is possible to construct malicious pickle data which will execute arbitrary code during unpickling (See https://github.com/pytorch/pytorch/blob/main/SECURITY.md#untrusted-models for more details). In a future release, the default value for `weights_only` will be flipped to `True`. This limits the functions that could be executed during unpickling. Arbitrary objects will no longer be allowed to be loaded via this mode unless they are explicitly allowlisted by the user via `torch.serialization.add_safe_globals`. We recommend you start setting `weights_only=True` for any use case where you don't have full control of the loaded file. Please open an issue on GitHub for any issues related to this experimental feature.\n",
      "  model2.load_state_dict(torch.load(path))\n"
     ]
    }
   ],
   "source": [
    "model2 = utils.load_model_2(\"../pretrained/better_e2vid_weights_v5.pth\").to(\n",
    "    const.DEVICE\n",
    ")"
   ]
  },
  {
   "cell_type": "code",
   "execution_count": null,
   "metadata": {},
   "outputs": [
    {
     "name": "stderr",
     "output_type": "stream",
     "text": [
      "100%|██████████| 832/832 [01:01<00:00, 13.45it/s]\n"
     ]
    }
   ],
   "source": [
    "eit = utils.EventWindowIterator(events, ts_counts, 30, 30, 0)\n",
    "rec_frames = []\n",
    "rec_ts = []\n",
    "for (\n",
    "    i,\n",
    "    window,\n",
    ") in tqdm.tqdm(enumerate(eit), total=len(eit)):\n",
    "    rec_ts.append(window[-1, 0])\n",
    "    window = window.copy()\n",
    "    vg = events_to_voxel_grid(window, 5, 640, 480)\n",
    "    vg = torch.from_numpy(vg).unsqueeze(0).float().to(const.DEVICE)\n",
    "    with torch.no_grad():\n",
    "        pred = model2(vg)[\"image\"]\n",
    "        pred = (pred.squeeze().cpu().numpy() * 255).astype(np.uint8)\n",
    "    rec_frames.append(pred)\n",
    "\n",
    "rec_ts = np.array(rec_ts)\n",
    "rec_frames = np.stack(rec_frames)"
   ]
  },
  {
   "cell_type": "code",
   "execution_count": null,
   "metadata": {},
   "outputs": [
    {
     "name": "stderr",
     "output_type": "stream",
     "text": [
      "100%|██████████| 832/832 [00:01<00:00, 772.76it/s]\n"
     ]
    }
   ],
   "source": [
    "out = cv2.VideoWriter(\n",
    "    \"out_pp.mp4\", cv2.VideoWriter_fourcc(*\"mp4v\"), 30, (640, 480), isColor=False\n",
    ")\n",
    "for rec_frame in tqdm.tqdm(rec_frames):\n",
    "    out.write(rec_frame)\n",
    "out.release()"
   ]
  }
 ],
 "metadata": {
  "kernelspec": {
   "display_name": "masters",
   "language": "python",
   "name": "python3"
  },
  "language_info": {
   "codemirror_mode": {
    "name": "ipython",
    "version": 3
   },
   "file_extension": ".py",
   "mimetype": "text/x-python",
   "name": "python",
   "nbconvert_exporter": "python",
   "pygments_lexer": "ipython3",
   "version": "3.10.15"
  }
 },
 "nbformat": 4,
 "nbformat_minor": 2
}
