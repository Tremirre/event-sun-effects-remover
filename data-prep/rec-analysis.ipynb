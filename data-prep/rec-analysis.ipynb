{
 "cells": [
  {
   "cell_type": "code",
   "execution_count": 15,
   "metadata": {},
   "outputs": [],
   "source": [
    "from __future__ import annotations\n",
    "\n",
    "import dataclasses\n",
    "import json\n",
    "import pathlib\n",
    "import threading\n",
    "import time\n",
    "\n",
    "import cv2\n",
    "import h5py\n",
    "import hdf5plugin\n",
    "import ipywidgets\n",
    "import matplotlib.pyplot as plt\n",
    "import numpy as np\n",
    "import PIL\n",
    "import torch\n",
    "import tqdm\n",
    "from rpg_e2vid.utils.loading_utils import load_model\n",
    "from rpg_e2vid.utils.inference_utils import events_to_voxel_grid\n",
    "\n",
    "import const\n",
    "import utils"
   ]
  },
  {
   "cell_type": "code",
   "execution_count": 2,
   "metadata": {},
   "outputs": [],
   "source": [
    "def to_displayable(img, converted: int | None = cv2.COLOR_BGR2RGB) -> PIL.Image.Image:\n",
    "    if converted is not None:\n",
    "        img = cv2.cvtColor(img, converted)\n",
    "    return PIL.Image.fromarray(np.clip(img.astype(np.uint8), 0, 255))\n",
    "\n",
    "\n",
    "def showarray(img, converted: int | None = cv2.COLOR_BGR2RGB) -> None:\n",
    "    display(to_displayable(img, converted))"
   ]
  },
  {
   "cell_type": "code",
   "execution_count": 3,
   "metadata": {},
   "outputs": [],
   "source": [
    "def read_events_h5(path: pathlib.Path) -> tuple[np.ndarray, np.ndarray]:\n",
    "    with h5py.File(path, \"r\") as f:\n",
    "        offset = f[\"t_offset\"][()]\n",
    "        x = f[\"events\"][\"x\"][()].astype(np.int32)\n",
    "        y = f[\"events\"][\"y\"][()].astype(np.int32)\n",
    "        ts = (f[\"events\"][\"t\"][()].astype(np.int64) + offset) // 1_000\n",
    "        pol = f[\"events\"][\"p\"][()].astype(np.int32)\n",
    "        events = np.array([ts, x, y, pol]).T\n",
    "        ms_to_idx = f[\"ms_to_idx\"][()].astype(np.int32)\n",
    "        return events, ms_to_idx"
   ]
  },
  {
   "cell_type": "code",
   "execution_count": 22,
   "metadata": {},
   "outputs": [
    {
     "name": "stderr",
     "output_type": "stream",
     "text": [
      "c:\\Users\\njytwf\\AppData\\Local\\anaconda3\\envs\\masters\\lib\\site-packages\\rpg_e2vid\\utils\\loading_utils.py:8: FutureWarning: You are using `torch.load` with `weights_only=False` (the current default value), which uses the default pickle module implicitly. It is possible to construct malicious pickle data which will execute arbitrary code during unpickling (See https://github.com/pytorch/pytorch/blob/main/SECURITY.md#untrusted-models for more details). In a future release, the default value for `weights_only` will be flipped to `True`. This limits the functions that could be executed during unpickling. Arbitrary objects will no longer be allowed to be loaded via this mode unless they are explicitly allowlisted by the user via `torch.serialization.add_safe_globals`. We recommend you start setting `weights_only=True` for any use case where you don't have full control of the loaded file. Please open an issue on GitHub for any issues related to this experimental feature.\n",
      "  raw_model = torch.load(path_to_model, map_location=device)\n"
     ]
    },
    {
     "name": "stdout",
     "output_type": "stream",
     "text": [
      "Using TransposedConvLayer (fast, with checkerboard artefacts)\n"
     ]
    }
   ],
   "source": [
    "#model = utils.load_model_2(pathlib.Path(\"../pretrained/better_e2vid_weights_v5.pth\"))\n",
    "model = load_model(pathlib.Path(\"../pretrained/E2VID_lightweight.pth.tar\"))\n",
    "model = model.to(const.DEVICE)"
   ]
  },
  {
   "cell_type": "code",
   "execution_count": 17,
   "metadata": {},
   "outputs": [],
   "source": [
    "SEQUENCE = \"zurich_city_00_b\""
   ]
  },
  {
   "cell_type": "code",
   "execution_count": 18,
   "metadata": {},
   "outputs": [],
   "source": [
    "events, ms_to_idx = read_events_h5(\n",
    "    pathlib.Path(f\"../data/raw/dsec/{SEQUENCE}/events.h5\")\n",
    ")\n",
    "_, ts_counts = np.unique(events[:, 0], return_counts=True)\n",
    "width = events[:, 1].max() + 1\n",
    "height = events[:, 2].max() + 1"
   ]
  },
  {
   "cell_type": "code",
   "execution_count": 19,
   "metadata": {},
   "outputs": [
    {
     "name": "stderr",
     "output_type": "stream",
     "text": [
      "Reading images: 100%|██████████| 1463/1463 [00:31<00:00, 45.98it/s]\n"
     ]
    }
   ],
   "source": [
    "ts_path = pathlib.Path(f\"../data/raw/dsec/{SEQUENCE}/timestamps.txt\")\n",
    "img_paths = list(pathlib.Path(f\"../data/raw/dsec/{SEQUENCE}/imgs/\").glob(\"*.png\"))\n",
    "calib_path = pathlib.Path(f\"../data/raw/dsec/{SEQUENCE}/cam_to_cam.yaml\")\n",
    "src_frames = utils.Frames.from_paths(img_paths, ts_path, calib_path)"
   ]
  },
  {
   "cell_type": "code",
   "execution_count": 20,
   "metadata": {},
   "outputs": [],
   "source": [
    "def read_rect_map(rectify_path: pathlib.Path) -> np.ndarray:\n",
    "    with h5py.File(rectify_path, \"r\") as f:\n",
    "        return f[\"rectify_map\"][:]  # type: ignore"
   ]
  },
  {
   "cell_type": "code",
   "execution_count": 21,
   "metadata": {},
   "outputs": [],
   "source": [
    "rect_map = read_rect_map(pathlib.Path(f\"../data/raw/dsec/{SEQUENCE}/rectify_map.h5\"))"
   ]
  },
  {
   "cell_type": "code",
   "execution_count": 10,
   "metadata": {},
   "outputs": [
    {
     "name": "stderr",
     "output_type": "stream",
     "text": [
      "Overlaying frames: 100%|██████████| 400/400 [00:12<00:00, 32.65it/s]\n"
     ]
    }
   ],
   "source": [
    "window_ts_start = 0\n",
    "ts_offset = 0\n",
    "idx_offset = 0\n",
    "freq = (src_frames.timestamps[1:] - src_frames.timestamps[:-1]).mean() / 1_000\n",
    "freq = int(round(freq))\n",
    "ev_freq = freq // 2\n",
    "pbar = tqdm.tqdm(range(1, len(ms_to_idx[:10000]), ev_freq), desc=\"Overlaying frames\")\n",
    "\n",
    "out = cv2.VideoWriter(\n",
    "    \"overlay.mp4\",\n",
    "    cv2.VideoWriter_fourcc(*\"mp4v\"),\n",
    "    30,\n",
    "    (rect_map.shape[1], rect_map.shape[0]),\n",
    ")\n",
    "for i in pbar:\n",
    "    from_idx = ms_to_idx[i - ev_freq]\n",
    "    to_idx = ms_to_idx[i]\n",
    "    window = events[from_idx:to_idx].copy()\n",
    "    window[:, [1, 2]] = rect_map[window[:, 2], window[:, 1]]\n",
    "    window = window[\n",
    "        (window[:, 1] >= 0)\n",
    "        & (window[:, 1] < rect_map.shape[1])\n",
    "        & (window[:, 2] >= 0)\n",
    "        & (window[:, 2] < rect_map.shape[0])\n",
    "    ]\n",
    "\n",
    "    window = window.astype(np.float32)\n",
    "    if not len(window):\n",
    "        continue\n",
    "\n",
    "    frame_idx = i // freq\n",
    "    frame = src_frames.array[frame_idx].copy()\n",
    "\n",
    "    pos_window = window[window[:, 3] == 1]\n",
    "    neg_window = window[window[:, 3] == 0]\n",
    "\n",
    "    frame[pos_window[:, 2].astype(int), pos_window[:, 1].astype(int)] = [0, 0, 255]\n",
    "    frame[neg_window[:, 2].astype(int), neg_window[:, 1].astype(int)] = [255, 0, 0]\n",
    "\n",
    "    out.write(frame)\n",
    "\n",
    "out.release()"
   ]
  },
  {
   "cell_type": "code",
   "execution_count": 25,
   "metadata": {},
   "outputs": [
    {
     "name": "stderr",
     "output_type": "stream",
     "text": [
      "Offset 0: 100%|██████████| 1463/1463 [02:42<00:00,  8.98it/s]\n"
     ]
    }
   ],
   "source": [
    "w_len = 50\n",
    "empty_frame = np.ones((height, width), dtype=np.uint8) * 128\n",
    "model.eval()\n",
    "out = cv2.VideoWriter(\n",
    "    \"rec-eval.mp4\", cv2.VideoWriter_fourcc(*\"mp4v\"), 30, (width, height), isColor=False\n",
    ")\n",
    "prev = None\n",
    "n_empty_frames = ts_offset // w_len\n",
    "for _ in range(n_empty_frames):\n",
    "    out.write(empty_frame)\n",
    "eit = utils.EventWindowIterator(events, ts_counts, w_len, w_len, ts_offset)\n",
    "for window in tqdm.tqdm(eit, desc=f\"Offset {ts_offset}\"):\n",
    "    window = window.astype(np.float32)\n",
    "    voxel_grid = events_to_voxel_grid(window, 5, width, height)\n",
    "    voxel_grid = torch.from_numpy(voxel_grid).to(const.DEVICE).unsqueeze(0).float()\n",
    "\n",
    "    with torch.no_grad():\n",
    "        # pred = model(voxel_grid)[\"image\"]\n",
    "        pred, prev = model(voxel_grid, prev)\n",
    "        pred = (pred.squeeze().cpu().numpy() * 255).astype(np.uint8)\n",
    "        out.write(pred)\n",
    "out.release()\n",
    "#model.reset_states()"
   ]
  },
  {
   "cell_type": "code",
   "execution_count": null,
   "metadata": {},
   "outputs": [
    {
     "name": "stdout",
     "output_type": "stream",
     "text": [
      "videos\\test\\0-offset-interlaken_00_f.mp4\n",
      "videos\\test\\100-offset-interlaken_00_f.mp4\n",
      "videos\\test\\200-offset-interlaken_00_f.mp4\n",
      "videos\\test\\300-offset-interlaken_00_f.mp4\n",
      "videos\\test\\400-offset-interlaken_00_f.mp4\n",
      "videos\\test\\500-offset-interlaken_00_f.mp4\n",
      "videos\\test\\600-offset-interlaken_00_f.mp4\n",
      "videos\\test\\700-offset-interlaken_00_f.mp4\n"
     ]
    }
   ],
   "source": [
    "all_videos = []\n",
    "for video in pathlib.Path(\"videos/test/\").glob(\"*.mp4\"):\n",
    "    print(video)\n",
    "    cap = cv2.VideoCapture(str(video))\n",
    "    video_frames = []\n",
    "    while cap.isOpened():\n",
    "        ret, frame = cap.read()\n",
    "        if not ret:\n",
    "            break\n",
    "        frame = cv2.cvtColor(frame, cv2.COLOR_BGR2GRAY)\n",
    "        video_frames.append(frame)\n",
    "    cap.release()\n",
    "    all_videos.append(video_frames)\n",
    "min_len = min(len(video) for video in all_videos)\n",
    "all_videos = [video[:min_len] for video in all_videos]\n",
    "all_videos = np.array(all_videos)"
   ]
  },
  {
   "cell_type": "code",
   "execution_count": null,
   "metadata": {},
   "outputs": [],
   "source": [
    "V, N, H, W = all_videos.shape\n",
    "\n",
    "top_vids = all_videos[: V // 2]\n",
    "bot_vids = all_videos[V // 2 :]\n",
    "top_vids_rows = np.concatenate(top_vids, axis=2)\n",
    "bot_vids_rows = np.concatenate(bot_vids, axis=2)\n",
    "all_vids = np.concatenate([top_vids_rows, bot_vids_rows], axis=1)\n",
    "all_vids.shape\n",
    "# bot_vids_rows = np.concatenate(bot_vids, axis=1)\n",
    "# all_vids = np.concatenate([top_vids_rows, bot_vids_rows], axis=0)\n",
    "# all_vids.shape\n",
    "\n",
    "\n",
    "out = cv2.VideoWriter(\n",
    "    f\"videos/test/{SEQUENCE}-all.mp4\",\n",
    "    cv2.VideoWriter_fourcc(*\"mp4v\"),\n",
    "    30,\n",
    "    (all_vids.shape[2], all_vids.shape[1]),\n",
    "    isColor=False,\n",
    ")\n",
    "\n",
    "for i, frame in enumerate(all_vids):\n",
    "    cv2.putText(frame, f\"Frame {i}\", (10, 40), cv2.FONT_HERSHEY_SIMPLEX, 2, 255)\n",
    "\n",
    "    out.write(frame)\n",
    "\n",
    "out.release()"
   ]
  },
  {
   "cell_type": "code",
   "execution_count": null,
   "metadata": {},
   "outputs": [
    {
     "name": "stderr",
     "output_type": "stream",
     "text": [
      " 99%|█████████▉| 1463/1477 [00:00<00:00, 214667.37it/s]\n"
     ]
    }
   ],
   "source": [
    "w_sizes = []\n",
    "eit = utils.EventWindowIterator(events, ts_counts, w_len, w_len, ts_offset)\n",
    "for window in tqdm.tqdm(eit):\n",
    "    w_sizes.append(window.shape[0])"
   ]
  },
  {
   "cell_type": "code",
   "execution_count": null,
   "metadata": {},
   "outputs": [
    {
     "data": {
      "text/plain": [
       "[<matplotlib.lines.Line2D at 0x23bc8debdf0>]"
      ]
     },
     "execution_count": 35,
     "metadata": {},
     "output_type": "execute_result"
    },
    {
     "data": {
      "image/png": "[encoded data removed]",
      "text/plain": [
       "<Figure size 640x480 with 1 Axes>"
      ]
     },
     "metadata": {},
     "output_type": "display_data"
    }
   ],
   "source": [
    "plt.plot(w_sizes)"
   ]
  },
  {
   "cell_type": "code",
   "execution_count": null,
   "metadata": {},
   "outputs": [
    {
     "data": {
      "text/plain": [
       "304462"
      ]
     },
     "execution_count": 40,
     "metadata": {},
     "output_type": "execute_result"
    }
   ],
   "source": [
    "med_event = int(np.median(w_sizes))\n",
    "med_event"
   ]
  },
  {
   "cell_type": "code",
   "execution_count": null,
   "metadata": {},
   "outputs": [
    {
     "name": "stderr",
     "output_type": "stream",
     "text": [
      " 99%|█████████▉| 1463/1477 [02:43<00:01,  8.95it/s]\n"
     ]
    }
   ],
   "source": [
    "file = f\"videos/test/{SEQUENCE}-median-events_count.mp4\"\n",
    "out = cv2.VideoWriter(\n",
    "    file, cv2.VideoWriter_fourcc(*\"mp4v\"), 30, (width, height), isColor=False\n",
    ")\n",
    "n_empty_frames = ts_offset // w_len\n",
    "for _ in range(n_empty_frames):\n",
    "    out.write(empty_frame)\n",
    "eit = utils.EventWindowIterator(events, ts_counts, w_len, w_len, ts_offset)\n",
    "for window in tqdm.tqdm(eit):\n",
    "    window = window.astype(np.float32)\n",
    "    if window.shape[0] > med_event:\n",
    "        indices = np.arange(window.shape[0])\n",
    "        np.random.shuffle(indices)\n",
    "        selected_indices = indices[:med_event]\n",
    "        selected_indices = np.sort(selected_indices)\n",
    "        window = window[selected_indices]\n",
    "    voxel_grid = events_to_voxel_grid(window, 5, width, height)\n",
    "    voxel_grid = torch.from_numpy(voxel_grid).to(const.DEVICE).unsqueeze(0).float()\n",
    "\n",
    "    with torch.no_grad():\n",
    "        pred = model(voxel_grid)[\"image\"]\n",
    "        pred = (pred.squeeze().cpu().numpy() * 255).astype(np.uint8)\n",
    "        out.write(pred)\n",
    "out.release()\n",
    "model.reset_states()"
   ]
  }
 ],
 "metadata": {
  "kernelspec": {
   "display_name": "masters",
   "language": "python",
   "name": "python3"
  },
  "language_info": {
   "codemirror_mode": {
    "name": "ipython",
    "version": 3
   },
   "file_extension": ".py",
   "mimetype": "text/x-python",
   "name": "python",
   "nbconvert_exporter": "python",
   "pygments_lexer": "ipython3",
   "version": "3.10.15"
  }
 },
 "nbformat": 4,
 "nbformat_minor": 2
}
